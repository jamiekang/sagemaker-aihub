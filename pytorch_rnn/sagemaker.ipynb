{
 "cells": [
  {
   "cell_type": "code",
   "execution_count": 29,
   "metadata": {},
   "outputs": [
    {
     "output_type": "stream",
     "name": "stdout",
     "text": "\u001b[33mYou are using pip version 19.0.3, however version 20.2b1 is available.\nYou should consider upgrading via the 'pip install --upgrade pip' command.\u001b[0m\n\u001b[33mYou are using pip version 19.0.3, however version 20.2b1 is available.\nYou should consider upgrading via the 'pip install --upgrade pip' command.\u001b[0m\n\u001b[33mYou are using pip version 19.0.3, however version 20.2b1 is available.\nYou should consider upgrading via the 'pip install --upgrade pip' command.\u001b[0m\n\u001b[33mYou are using pip version 19.0.3, however version 20.2b1 is available.\nYou should consider upgrading via the 'pip install --upgrade pip' command.\u001b[0m\n"
    }
   ],
   "source": [
    "!pip -q install sagemaker sagemaker[local]\n",
    "!pip -q install tensorboard\n",
    "%load_ext tensorboard"
   ]
  },
  {
   "cell_type": "code",
   "execution_count": 3,
   "metadata": {},
   "outputs": [
    {
     "output_type": "stream",
     "name": "stderr",
     "text": "WARNING:root:pandas failed to import. Analytics features will be impaired or broken.\n"
    }
   ],
   "source": [
    "import sagemaker\n",
    "import boto3\n",
    "\n",
    "sagemaker_session = sagemaker.Session()\n",
    "\n",
    "bucket = sagemaker_session.default_bucket()\n",
    "prefix = 'sagemaker/hunkim-data'\n",
    "role = 'arn:aws:iam::294038372338:role/hunkimSagemaker'"
   ]
  },
  {
   "cell_type": "code",
   "execution_count": 4,
   "metadata": {},
   "outputs": [
    {
     "output_type": "stream",
     "name": "stdout",
     "text": "Archive:  wikitext-2-raw-v1.zip\n  inflating: wikitext-2-raw/wiki.test.raw  \n  inflating: wikitext-2-raw/wiki.valid.raw  \n  inflating: wikitext-2-raw/wiki.train.raw  \n--2020-06-14 14:48:17--  https://s3.amazonaws.com/research.metamind.io/wikitext/wikitext-2-raw-v1.zip\nResolving s3.amazonaws.com (s3.amazonaws.com)... 52.216.147.21\nConnecting to s3.amazonaws.com (s3.amazonaws.com)|52.216.147.21|:443... connected.\nHTTP request sent, awaiting response... 200 OK\nLength: 4721645 (4.5M) [application/zip]\nSaving to: ‘wikitext-2-raw-v1.zip’\n\n     0K .......... .......... .......... .......... ..........  1%  232K 20s\n    50K .......... .......... .......... .......... ..........  2%  233K 19s\n   100K .......... .......... .......... .......... ..........  3%  233K 19s\n   150K .......... .......... .......... .......... ..........  4% 43.6M 14s\n   200K .......... .......... .......... .......... ..........  5% 34.2M 11s\n   250K .......... .......... .......... .......... ..........  6%  236K 12s\n   300K .......... .......... .......... .......... ..........  7%  106M 10s\n   350K .......... .......... .......... .......... ..........  8%  118M 9s\n   400K .......... .......... .......... .......... ..........  9% 94.6M 8s\n   450K .......... .......... .......... .......... .......... 10% 46.8M 7s\n   500K .......... .......... .......... .......... .......... 11%  234K 8s\n   550K .......... .......... .......... .......... .......... 13% 98.2M 7s\n   600K .......... .......... .......... .......... .......... 14%  110M 7s\n   650K .......... .......... .......... .......... .......... 15%  127M 6s\n   700K .......... .......... .......... .......... .......... 16%  126M 6s\n   750K .......... .......... .......... .......... .......... 17%  435K 6s\n   800K .......... .......... .......... .......... .......... 18% 30.0M 5s\n   850K .......... .......... .......... .......... .......... 19% 66.9M 5s\n   900K .......... .......... .......... .......... .......... 20%  109M 5s\n   950K .......... .......... .......... .......... .......... 21% 78.9M 4s\n  1000K .......... .......... .......... .......... .......... 22%  536K 4s\n  1050K .......... .......... .......... .......... .......... 23% 65.4M 4s\n  1100K .......... .......... .......... .......... .......... 24% 93.4M 4s\n  1150K .......... .......... .......... .......... .......... 26% 78.5M 4s\n  1200K .......... .......... .......... .......... .......... 27% 77.3M 3s\n  1250K .......... .......... .......... .......... .......... 28% 86.3M 3s\n  1300K .......... .......... .......... .......... .......... 29%  107M 3s\n  1350K .......... .......... .......... .......... .......... 30% 86.0M 3s\n  1400K .......... .......... .......... .......... .......... 31%  121M 3s\n  1450K .......... .......... .......... .......... .......... 32%  117M 3s\n  1500K .......... .......... .......... .......... .......... 33%  441K 3s\n  1550K .......... .......... .......... .......... .......... 34% 52.9M 3s\n  1600K .......... .......... .......... .......... .......... 35% 91.4M 3s\n  1650K .......... .......... .......... .......... .......... 36% 33.3M 2s\n  1700K .......... .......... .......... .......... .......... 37%  116M 2s\n  1750K .......... .......... .......... .......... .......... 39%  133M 2s\n  1800K .......... .......... .......... .......... .......... 40% 70.1M 2s\n  1850K .......... .......... .......... .......... .......... 41%  121M 2s\n  1900K .......... .......... .......... .......... .......... 42% 96.1M 2s\n  1950K .......... .......... .......... .......... .......... 43% 46.6M 2s\n  2000K .......... .......... .......... .......... .......... 44%  106M 2s\n  2050K .......... .......... .......... .......... .......... 45%  546K 2s\n  2100K .......... .......... .......... .......... .......... 46%  134M 2s\n  2150K .......... .......... .......... .......... .......... 47% 90.8M 2s\n  2200K .......... .......... .......... .......... .......... 48%  121M 2s\n  2250K .......... .......... .......... .......... .......... 49% 95.4M 2s\n  2300K .......... .......... .......... .......... .......... 50%  145M 1s\n  2350K .......... .......... .......... .......... .......... 52% 79.0M 1s\n  2400K .......... .......... .......... .......... .......... 53%  106M 1s\n  2450K .......... .......... .......... .......... .......... 54%  128M 1s\n  2500K .......... .......... .......... .......... .......... 55%  130M 1s\n  2550K .......... .......... .......... .......... .......... 56% 82.6M 1s\n  2600K .......... .......... .......... .......... .......... 57%  130M 1s\n  2650K .......... .......... .......... .......... .......... 58%  138M 1s\n  2700K .......... .......... .......... .......... .......... 59%  110M 1s\n  2750K .......... .......... .......... .......... .......... 60% 95.9M 1s\n  2800K .......... .......... .......... .......... .......... 61%  116M 1s\n  2850K .......... .......... .......... .......... .......... 62%  135M 1s\n  2900K .......... .......... .......... .......... .......... 63% 88.0M 1s\n  2950K .......... .......... .......... .......... .......... 65% 90.1M 1s\n  3000K .......... .......... .......... .......... .......... 66%  477K 1s\n  3050K .......... .......... .......... .......... .......... 67% 12.2M 1s\n  3100K .......... .......... .......... .......... .......... 68%  133M 1s\n  3150K .......... .......... .......... .......... .......... 69%  110M 1s\n  3200K .......... .......... .......... .......... .......... 70% 92.0M 1s\n  3250K .......... .......... .......... .......... .......... 71%  153M 1s\n  3300K .......... .......... .......... .......... .......... 72%  132M 1s\n  3350K .......... .......... .......... .......... .......... 73% 55.9M 1s\n  3400K .......... .......... .......... .......... .......... 74%  189M 1s\n  3450K .......... .......... .......... .......... .......... 75% 96.9M 1s\n  3500K .......... .......... .......... .......... .......... 76%  160M 0s\n  3550K .......... .......... .......... .......... .......... 78%  102M 0s\n  3600K .......... .......... .......... .......... .......... 79%  110M 0s\n  3650K .......... .......... .......... .......... .......... 80%  108M 0s\n  3700K .......... .......... .......... .......... .......... 81%  150M 0s\n  3750K .......... .......... .......... .......... .......... 82% 79.4M 0s\n  3800K .......... .......... .......... .......... .......... 83%  145M 0s\n  3850K .......... .......... .......... .......... .......... 84%  111M 0s\n  3900K .......... .......... .......... .......... .......... 85%  105M 0s\n  3950K .......... .......... .......... .......... .......... 86%  126M 0s\n  4000K .......... .......... .......... .......... .......... 87%  116M 0s\n  4050K .......... .......... .......... .......... .......... 88%  560K 0s\n  4100K .......... .......... .......... .......... .......... 90%  102M 0s\n  4150K .......... .......... .......... .......... .......... 91% 59.0M 0s\n  4200K .......... .......... .......... .......... .......... 92% 98.8M 0s\n  4250K .......... .......... .......... .......... .......... 93% 88.8M 0s\n  4300K .......... .......... .......... .......... .......... 94% 92.5M 0s\n  4350K .......... .......... .......... .......... .......... 95%  118M 0s\n  4400K .......... .......... .......... .......... .......... 96%  201M 0s\n  4450K .......... .......... .......... .......... .......... 97%  158M 0s\n  4500K .......... .......... .......... .......... .......... 98% 97.9M 0s\n  4550K .......... .......... .......... .......... .......... 99% 90.6M 0s\n  4600K ..........                                            100%  228M=1.7s\n\n2020-06-14 14:48:19 (2.61 MB/s) - ‘wikitext-2-raw-v1.zip’ saved [4721645/4721645]\n\n"
    }
   ],
   "source": [
    "%%bash\n",
    "#wget http://research.metamind.io.s3.amazonaws.com/wikitext/wikitext-2-raw-v1.zip\n",
    "wget -O wikitext-2-raw-v1.zip https://s3.amazonaws.com/research.metamind.io/wikitext/wikitext-2-raw-v1.zip\n",
    "unzip -n wikitext-2-raw-v1.zip\n",
    "cd wikitext-2-raw\n",
    "mv wiki.test.raw test && mv wiki.train.raw train && mv wiki.valid.raw valid\n"
   ]
  },
  {
   "cell_type": "code",
   "execution_count": 5,
   "metadata": {},
   "outputs": [
    {
     "output_type": "stream",
     "name": "stdout",
     "text": "\n = Valkyria Chronicles III = \n \n Senjō no Valkyria 3 : Unrecorded Chronicles ( Japanese : 戦場のヴァルキュリア3 , lit . Valkyria of the Battlefield 3 ) , commonly referred to as Valkyria Chronicles III outside Japan , is a tactical role @-@ playing video game developed by Sega and Media.Vision for the PlayStation Portable . Released in January 2011 in Japan , it is the third game in the Valkyria series . Employing the same fusion of tactical and real @-@ time gameplay as its predecessors , the story runs parallel to the first game and follows the \" Nameless \" , a penal military unit serving the nation of Gallia during the Second Europan War who perform secret black operations and are pitted against the Imperial unit \" Calamaty Raven \" . \n The game began development in 2010 , carrying over a large portion of the work done on Valkyria Chronicles II . While it retained the standard features of the series , it also underwent multiple adjustments , such as making the game more forgiving for series newcomers . Character designer Raita Honjou and composer Hitoshi Sakimoto both returned from previous entries , along with Valkyria Chronicles II director Takeshi Ozawa . A large team of writers handled the script . The game 's opening theme was sung by May 'n . \n"
    }
   ],
   "source": [
    "!head -5 wikitext-2-raw/train"
   ]
  },
  {
   "cell_type": "code",
   "execution_count": 6,
   "metadata": {},
   "outputs": [
    {
     "output_type": "stream",
     "name": "stderr",
     "text": "WARNING:sagemaker:'upload_data' method will be deprecated in favor of 'S3Uploader' class (https://sagemaker.readthedocs.io/en/stable/s3.html#sagemaker.s3.S3Uploader) in SageMaker Python SDK v2.\ninput spec (in this case, just an S3 path): s3://sagemaker-us-west-2-294038372338/sagemaker/hunkim-kogpt2\n"
    }
   ],
   "source": [
    "inputs = sagemaker_session.upload_data(path='wikitext-2-raw', bucket=bucket, key_prefix=prefix)\n",
    "print('input spec (in this case, just an S3 path): {}'.format(inputs))"
   ]
  },
  {
   "cell_type": "code",
   "execution_count": 24,
   "metadata": {},
   "outputs": [
    {
     "output_type": "stream",
     "name": "stdout",
     "text": "F_CPP_MIN_LOG_LEVEL=3 AWS_REGION=us-east2 tensorboard --log-dir s3://sagemaker-us-west-2-294038372338/sagemaker/hunkim-kogpt2/tensorboard/data/emission\n"
    }
   ],
   "source": [
    "from sagemaker.debugger import TensorBoardOutputConfig\n",
    "tb_suffix = \"/tensorboard/data/emission\"\n",
    "tensorboard_output = inputs + tb_suffix\n",
    "\n",
    "tensorboard_output_config = TensorBoardOutputConfig(\n",
    "    s3_output_path=tensorboard_output,\n",
    "    container_local_output_path=tb_suffix\n",
    ")"
   ]
  },
  {
   "cell_type": "code",
   "execution_count": 25,
   "metadata": {},
   "outputs": [],
   "source": [
    "from sagemaker.pytorch import PyTorch\n",
    "\n",
    "estimator = PyTorch(entry_point='train.py',\n",
    "                    source_dir='code',\n",
    "                    role=role,\n",
    "                    framework_version='1.5.0',\n",
    "                    train_instance_count=1,\n",
    "                    train_instance_type='ml.p2.xlarge',\n",
    "                    #train_instance_type='local',\n",
    "                    tensorboard_output_config=tensorboard_output_config,\n",
    "\n",
    "\n",
    "                    # available hyperparameters: emsize, nhid, nlayers, lr, clip, epochs, batch_size,\n",
    "                    #                            bptt, dropout, tied, seed, log_interval\n",
    "                    hyperparameters={\n",
    "                        'epochs': 1,\n",
    "                        'tied': True\n",
    "                    })"
   ]
  },
  {
   "cell_type": "code",
   "execution_count": 26,
   "metadata": {},
   "outputs": [
    {
     "output_type": "stream",
     "name": "stderr",
     "text": "WARNING:sagemaker:'create_image_uri' will be deprecated in favor of 'ImageURIProvider' class in SageMaker Python SDK v2.\nWARNING:sagemaker:'s3_input' class will be renamed to 'TrainingInput' in SageMaker Python SDK v2.\nWARNING:sagemaker:'create_image_uri' will be deprecated in favor of 'ImageURIProvider' class in SageMaker Python SDK v2.\n2020-06-14 07:56:05 Starting - Starting the training job...\n2020-06-14 07:56:07 Starting - Launching requested ML instances......\n2020-06-14 07:57:15 Starting - Preparing the instances for training......\n2020-06-14 07:58:46 Downloading - Downloading input data\n2020-06-14 07:58:46 Training - Downloading the training image............\n2020-06-14 08:01:00 Training - Training image download completed. Training in progress..\u001b[34mbash: cannot set terminal process group (-1): Inappropriate ioctl for device\u001b[0m\n\u001b[34mbash: no job control in this shell\u001b[0m\n\u001b[34m2020-06-14 08:01:02,227 sagemaker-containers INFO     Imported framework sagemaker_pytorch_container.training\u001b[0m\n\u001b[34m2020-06-14 08:01:02,255 sagemaker_pytorch_container.training INFO     Block until all host DNS lookups succeed.\u001b[0m\n\u001b[34m2020-06-14 08:01:02,261 sagemaker_pytorch_container.training INFO     Invoking user training script.\u001b[0m\n\u001b[34m2020-06-14 08:01:02,546 sagemaker-containers INFO     Module default_user_module_name does not provide a setup.py. \u001b[0m\n\u001b[34mGenerating setup.py\u001b[0m\n\u001b[34m2020-06-14 08:01:02,546 sagemaker-containers INFO     Generating setup.cfg\u001b[0m\n\u001b[34m2020-06-14 08:01:02,547 sagemaker-containers INFO     Generating MANIFEST.in\u001b[0m\n\u001b[34m2020-06-14 08:01:02,547 sagemaker-containers INFO     Installing module with the following command:\u001b[0m\n\u001b[34m/opt/conda/bin/python -m pip install . -r requirements.txt\u001b[0m\n\u001b[34mProcessing /tmp/tmpdna1fmxb/module_dir\u001b[0m\n\u001b[34mCollecting mxnet==1.6.0\n  Downloading mxnet-1.6.0-py2.py3-none-any.whl (68.7 MB)\u001b[0m\n\u001b[34mRequirement already satisfied: torch==1.5.0 in /opt/conda/lib/python3.6/site-packages (from -r requirements.txt (line 2)) (1.5.0)\u001b[0m\n\u001b[34mCollecting tensorboardX==2.0\n  Downloading tensorboardX-2.0-py2.py3-none-any.whl (195 kB)\u001b[0m\n\u001b[34mCollecting tensorboard\n  Downloading tensorboard-2.2.2-py3-none-any.whl (3.0 MB)\u001b[0m\n\u001b[34mRequirement already satisfied: requests<3,>=2.20.0 in /opt/conda/lib/python3.6/site-packages (from mxnet==1.6.0->-r requirements.txt (line 1)) (2.22.0)\u001b[0m\n\u001b[34mRequirement already satisfied: numpy<2.0.0,>1.16.0 in /opt/conda/lib/python3.6/site-packages (from mxnet==1.6.0->-r requirements.txt (line 1)) (1.16.4)\u001b[0m\n\u001b[34mCollecting graphviz<0.9.0,>=0.8.1\n  Downloading graphviz-0.8.4-py2.py3-none-any.whl (16 kB)\u001b[0m\n\u001b[34mRequirement already satisfied: future in /opt/conda/lib/python3.6/site-packages (from torch==1.5.0->-r requirements.txt (line 2)) (0.17.1)\u001b[0m\n\u001b[34mRequirement already satisfied: protobuf>=3.8.0 in /opt/conda/lib/python3.6/site-packages (from tensorboardX==2.0->-r requirements.txt (line 3)) (3.11.3)\u001b[0m\n\u001b[34mRequirement already satisfied: six in /opt/conda/lib/python3.6/site-packages (from tensorboardX==2.0->-r requirements.txt (line 3)) (1.14.0)\u001b[0m\n\u001b[34mRequirement already satisfied: setuptools>=41.0.0 in /opt/conda/lib/python3.6/site-packages (from tensorboard->-r requirements.txt (line 4)) (46.1.3.post20200330)\u001b[0m\n\u001b[34mCollecting google-auth-oauthlib<0.5,>=0.4.1\n  Downloading google_auth_oauthlib-0.4.1-py2.py3-none-any.whl (18 kB)\u001b[0m\n\u001b[34mCollecting grpcio>=1.24.3\n  Downloading grpcio-1.29.0-cp36-cp36m-manylinux2010_x86_64.whl (3.0 MB)\u001b[0m\n\u001b[34mCollecting absl-py>=0.4\n  Downloading absl-py-0.9.0.tar.gz (104 kB)\u001b[0m\n\u001b[34mCollecting google-auth<2,>=1.6.3\n  Downloading google_auth-1.17.2-py2.py3-none-any.whl (90 kB)\u001b[0m\n\u001b[34mRequirement already satisfied: werkzeug>=0.11.15 in /opt/conda/lib/python3.6/site-packages (from tensorboard->-r requirements.txt (line 4)) (1.0.1)\u001b[0m\n\u001b[34mCollecting markdown>=2.6.8\n  Downloading Markdown-3.2.2-py3-none-any.whl (88 kB)\u001b[0m\n\u001b[34mCollecting tensorboard-plugin-wit>=1.6.0\n  Downloading tensorboard_plugin_wit-1.6.0.post3-py3-none-any.whl (777 kB)\u001b[0m\n\u001b[34mRequirement already satisfied: wheel>=0.26; python_version >= \"3\" in /opt/conda/lib/python3.6/site-packages (from tensorboard->-r requirements.txt (line 4)) (0.34.2)\u001b[0m\n\u001b[34mRequirement already satisfied: urllib3!=1.25.0,!=1.25.1,<1.26,>=1.21.1 in /opt/conda/lib/python3.6/site-packages (from requests<3,>=2.20.0->mxnet==1.6.0->-r requirements.txt (line 1)) (1.25.8)\u001b[0m\n\u001b[34mRequirement already satisfied: idna<2.9,>=2.5 in /opt/conda/lib/python3.6/site-packages (from requests<3,>=2.20.0->mxnet==1.6.0->-r requirements.txt (line 1)) (2.8)\u001b[0m\n\u001b[34mRequirement already satisfied: chardet<3.1.0,>=3.0.2 in /opt/conda/lib/python3.6/site-packages (from requests<3,>=2.20.0->mxnet==1.6.0->-r requirements.txt (line 1)) (3.0.4)\u001b[0m\n\u001b[34mRequirement already satisfied: certifi>=2017.4.17 in /opt/conda/lib/python3.6/site-packages (from requests<3,>=2.20.0->mxnet==1.6.0->-r requirements.txt (line 1)) (2020.4.5.1)\u001b[0m\n\u001b[34mCollecting requests-oauthlib>=0.7.0\n  Downloading requests_oauthlib-1.3.0-py2.py3-none-any.whl (23 kB)\u001b[0m\n\u001b[34mRequirement already satisfied: rsa<5,>=3.1.4; python_version >= \"3\" in /opt/conda/lib/python3.6/site-packages (from google-auth<2,>=1.6.3->tensorboard->-r requirements.txt (line 4)) (3.4.2)\u001b[0m\n\u001b[34mCollecting pyasn1-modules>=0.2.1\n  Downloading pyasn1_modules-0.2.8-py2.py3-none-any.whl (155 kB)\u001b[0m\n\u001b[34mCollecting cachetools<5.0,>=2.0.0\n  Downloading cachetools-4.1.0-py3-none-any.whl (10 kB)\u001b[0m\n\u001b[34mRequirement already satisfied: importlib-metadata; python_version < \"3.8\" in /opt/conda/lib/python3.6/site-packages (from markdown>=2.6.8->tensorboard->-r requirements.txt (line 4)) (1.6.0)\u001b[0m\n\u001b[34mCollecting oauthlib>=3.0.0\n  Downloading oauthlib-3.1.0-py2.py3-none-any.whl (147 kB)\u001b[0m\n\u001b[34mRequirement already satisfied: pyasn1>=0.1.3 in /opt/conda/lib/python3.6/site-packages (from rsa<5,>=3.1.4; python_version >= \"3\"->google-auth<2,>=1.6.3->tensorboard->-r requirements.txt (line 4)) (0.4.8)\u001b[0m\n\u001b[34mRequirement already satisfied: zipp>=0.5 in /opt/conda/lib/python3.6/site-packages (from importlib-metadata; python_version < \"3.8\"->markdown>=2.6.8->tensorboard->-r requirements.txt (line 4)) (3.1.0)\u001b[0m\n\u001b[34mBuilding wheels for collected packages: default-user-module-name, absl-py\n  Building wheel for default-user-module-name (setup.py): started\u001b[0m\n\u001b[34m  Building wheel for default-user-module-name (setup.py): finished with status 'done'\n  Created wheel for default-user-module-name: filename=default_user_module_name-1.0.0-py2.py3-none-any.whl size=16423 sha256=269e4ea60225e0f7d3f38e4b022f9f96875b02408cfcec8b18c73b6698a7c347\n  Stored in directory: /tmp/pip-ephem-wheel-cache-29dup953/wheels/83/45/1c/47c8e0baa14eced2e854c82b5bafb7bac744ac1d62b4a07759\n  Building wheel for absl-py (setup.py): started\n  Building wheel for absl-py (setup.py): finished with status 'done'\n  Created wheel for absl-py: filename=absl_py-0.9.0-py3-none-any.whl size=121931 sha256=566e42614ba80d4397924741ff209147c47731ce4fa501ae7c6088bd7e8675f4\n  Stored in directory: /root/.cache/pip/wheels/c3/af/84/3962a6af7b4ab336e951b7877dcfb758cf94548bb1771e0679\u001b[0m\n\u001b[34mSuccessfully built default-user-module-name absl-py\u001b[0m\n\u001b[34mInstalling collected packages: graphviz, mxnet, tensorboardX, oauthlib, requests-oauthlib, pyasn1-modules, cachetools, google-auth, google-auth-oauthlib, grpcio, absl-py, markdown, tensorboard-plugin-wit, tensorboard, default-user-module-name\u001b[0m\n\u001b[34mSuccessfully installed absl-py-0.9.0 cachetools-4.1.0 default-user-module-name-1.0.0 google-auth-1.17.2 google-auth-oauthlib-0.4.1 graphviz-0.8.4 grpcio-1.29.0 markdown-3.2.2 mxnet-1.6.0 oauthlib-3.1.0 pyasn1-modules-0.2.8 requests-oauthlib-1.3.0 tensorboard-2.2.2 tensorboard-plugin-wit-1.6.0.post3 tensorboardX-2.0\u001b[0m\n\u001b[34mWARNING: You are using pip version 20.1; however, version 20.1.1 is available.\u001b[0m\n\u001b[34mYou should consider upgrading via the '/opt/conda/bin/python -m pip install --upgrade pip' command.\u001b[0m\n\u001b[34m2020-06-14 08:01:16,626 sagemaker-containers INFO     Invoking user script\n\u001b[0m\n\u001b[34mTraining Env:\n\u001b[0m\n\u001b[34m{\n    \"additional_framework_parameters\": {},\n    \"channel_input_dirs\": {\n        \"training\": \"/opt/ml/input/data/training\"\n    },\n    \"current_host\": \"algo-1\",\n    \"framework_module\": \"sagemaker_pytorch_container.training:main\",\n    \"hosts\": [\n        \"algo-1\"\n    ],\n    \"hyperparameters\": {\n        \"tied\": true,\n        \"epochs\": 1\n    },\n    \"input_config_dir\": \"/opt/ml/input/config\",\n    \"input_data_config\": {\n        \"training\": {\n            \"TrainingInputMode\": \"File\",\n            \"S3DistributionType\": \"FullyReplicated\",\n            \"RecordWrapperType\": \"None\"\n        }\n    },\n    \"input_dir\": \"/opt/ml/input\",\n    \"is_master\": true,\n    \"job_name\": \"pytorch-training-2020-06-14-07-56-02-352\",\n    \"log_level\": 20,\n    \"master_hostname\": \"algo-1\",\n    \"model_dir\": \"/opt/ml/model\",\n    \"module_dir\": \"s3://sagemaker-us-west-2-294038372338/pytorch-training-2020-06-14-07-56-02-352/source/sourcedir.tar.gz\",\n    \"module_name\": \"train\",\n    \"network_interface_name\": \"eth0\",\n    \"num_cpus\": 4,\n    \"num_gpus\": 1,\n    \"output_data_dir\": \"/opt/ml/output/data\",\n    \"output_dir\": \"/opt/ml/output\",\n    \"output_intermediate_dir\": \"/opt/ml/output/intermediate\",\n    \"resource_config\": {\n        \"current_host\": \"algo-1\",\n        \"hosts\": [\n            \"algo-1\"\n        ],\n        \"network_interface_name\": \"eth0\"\n    },\n    \"user_entry_point\": \"train.py\"\u001b[0m\n\u001b[34m}\n\u001b[0m\n\u001b[34mEnvironment variables:\n\u001b[0m\n\u001b[34mSM_HOSTS=[\"algo-1\"]\u001b[0m\n\u001b[34mSM_NETWORK_INTERFACE_NAME=eth0\u001b[0m\n\u001b[34mSM_HPS={\"epochs\":1,\"tied\":true}\u001b[0m\n\u001b[34mSM_USER_ENTRY_POINT=train.py\u001b[0m\n\u001b[34mSM_FRAMEWORK_PARAMS={}\u001b[0m\n\u001b[34mSM_RESOURCE_CONFIG={\"current_host\":\"algo-1\",\"hosts\":[\"algo-1\"],\"network_interface_name\":\"eth0\"}\u001b[0m\n\u001b[34mSM_INPUT_DATA_CONFIG={\"training\":{\"RecordWrapperType\":\"None\",\"S3DistributionType\":\"FullyReplicated\",\"TrainingInputMode\":\"File\"}}\u001b[0m\n\u001b[34mSM_OUTPUT_DATA_DIR=/opt/ml/output/data\u001b[0m\n\u001b[34mSM_CHANNELS=[\"training\"]\u001b[0m\n\u001b[34mSM_CURRENT_HOST=algo-1\u001b[0m\n\u001b[34mSM_MODULE_NAME=train\u001b[0m\n\u001b[34mSM_LOG_LEVEL=20\u001b[0m\n\u001b[34mSM_FRAMEWORK_MODULE=sagemaker_pytorch_container.training:main\u001b[0m\n\u001b[34mSM_INPUT_DIR=/opt/ml/input\u001b[0m\n\u001b[34mSM_INPUT_CONFIG_DIR=/opt/ml/input/config\u001b[0m\n\u001b[34mSM_OUTPUT_DIR=/opt/ml/output\u001b[0m\n\u001b[34mSM_NUM_CPUS=4\u001b[0m\n\u001b[34mSM_NUM_GPUS=1\u001b[0m\n\u001b[34mSM_MODEL_DIR=/opt/ml/model\u001b[0m\n\u001b[34mSM_MODULE_DIR=s3://sagemaker-us-west-2-294038372338/pytorch-training-2020-06-14-07-56-02-352/source/sourcedir.tar.gz\u001b[0m\n\u001b[34mSM_TRAINING_ENV={\"additional_framework_parameters\":{},\"channel_input_dirs\":{\"training\":\"/opt/ml/input/data/training\"},\"current_host\":\"algo-1\",\"framework_module\":\"sagemaker_pytorch_container.training:main\",\"hosts\":[\"algo-1\"],\"hyperparameters\":{\"epochs\":1,\"tied\":true},\"input_config_dir\":\"/opt/ml/input/config\",\"input_data_config\":{\"training\":{\"RecordWrapperType\":\"None\",\"S3DistributionType\":\"FullyReplicated\",\"TrainingInputMode\":\"File\"}},\"input_dir\":\"/opt/ml/input\",\"is_master\":true,\"job_name\":\"pytorch-training-2020-06-14-07-56-02-352\",\"log_level\":20,\"master_hostname\":\"algo-1\",\"model_dir\":\"/opt/ml/model\",\"module_dir\":\"s3://sagemaker-us-west-2-294038372338/pytorch-training-2020-06-14-07-56-02-352/source/sourcedir.tar.gz\",\"module_name\":\"train\",\"network_interface_name\":\"eth0\",\"num_cpus\":4,\"num_gpus\":1,\"output_data_dir\":\"/opt/ml/output/data\",\"output_dir\":\"/opt/ml/output\",\"output_intermediate_dir\":\"/opt/ml/output/intermediate\",\"resource_config\":{\"current_host\":\"algo-1\",\"hosts\":[\"algo-1\"],\"network_interface_name\":\"eth0\"},\"user_entry_point\":\"train.py\"}\u001b[0m\n\u001b[34mSM_USER_ARGS=[\"--epochs\",\"1\",\"--tied\",\"True\"]\u001b[0m\n\u001b[34mSM_OUTPUT_INTERMEDIATE_DIR=/opt/ml/output/intermediate\u001b[0m\n\u001b[34mSM_CHANNEL_TRAINING=/opt/ml/input/data/training\u001b[0m\n\u001b[34mSM_HP_TIED=true\u001b[0m\n\u001b[34mSM_HP_EPOCHS=1\u001b[0m\n\u001b[34mPYTHONPATH=/opt/ml/code:/opt/conda/bin:/opt/conda/lib/python36.zip:/opt/conda/lib/python3.6:/opt/conda/lib/python3.6/lib-dynload:/opt/conda/lib/python3.6/site-packages\n\u001b[0m\n\u001b[34mInvoking script with the following command:\n\u001b[0m\n\u001b[34m/opt/conda/bin/python train.py --epochs 1 --tied True\n\n\u001b[0m\n\u001b[34m1.6.0\u001b[0m\n\u001b[34mNamespace(batch_size=20, bptt=35, clip=0.25, data_dir='/opt/ml/input/data/training', dropout=0.2, emsize=200, epochs=1, log_interval=200, lr=20, model_dir='/opt/ml/model', nhid=200, nlayers=2, output_data_dir='/opt/ml/output/data', seed=1111, tied=True)\u001b[0m\n\u001b[34mLoad data\u001b[0m\n\u001b[34mBatchify dataset\u001b[0m\n\u001b[34mBuild the model\u001b[0m\n\u001b[34mStarting training.\u001b[0m\n\u001b[34m[2020-06-14 08:01:47.659 algo-1:49 INFO json_config.py:90] Creating hook from json_config at /opt/ml/input/config/debughookconfig.json.\u001b[0m\n\u001b[34m[2020-06-14 08:01:47.660 algo-1:49 INFO hook.py:228] Saving to /opt/ml/output/tensors\u001b[0m\n\u001b[34m[2020-06-14 08:01:47.709 algo-1:49 INFO hook.py:364] Monitoring the collections: losses\u001b[0m\n\u001b[34m[2020-06-14 08:01:47.709 algo-1:49 INFO hook.py:422] Hook is writing from the hook with pid: 49\n\u001b[0m\n\u001b[34m| epoch   1 |   200/ 2983 batches | lr 20.00 | ms/batch 97.31 | loss  8.32 | ppl  4095.89\u001b[0m\n\u001b[34m| epoch   1 |   400/ 2983 batches | lr 20.00 | ms/batch 91.49 | loss  7.36 | ppl  1568.11\u001b[0m\n\u001b[34m| epoch   1 |   600/ 2983 batches | lr 20.00 | ms/batch 91.62 | loss  6.87 | ppl   958.54\u001b[0m\n\u001b[34m| epoch   1 |   800/ 2983 batches | lr 20.00 | ms/batch 91.81 | loss  6.67 | ppl   792.31\u001b[0m\n\u001b[34m| epoch   1 |  1000/ 2983 batches | lr 20.00 | ms/batch 92.23 | loss  6.44 | ppl   627.48\u001b[0m\n\u001b[34m| epoch   1 |  1200/ 2983 batches | lr 20.00 | ms/batch 92.35 | loss  6.38 | ppl   589.43\u001b[0m\n\u001b[34m| epoch   1 |  1400/ 2983 batches | lr 20.00 | ms/batch 92.57 | loss  6.29 | ppl   540.56\u001b[0m\n\u001b[34m| epoch   1 |  1600/ 2983 batches | lr 20.00 | ms/batch 92.76 | loss  6.28 | ppl   534.21\u001b[0m\n\u001b[34m| epoch   1 |  1800/ 2983 batches | lr 20.00 | ms/batch 92.88 | loss  6.08 | ppl   438.39\u001b[0m\n\u001b[34m| epoch   1 |  2000/ 2983 batches | lr 20.00 | ms/batch 93.03 | loss  6.05 | ppl   423.70\u001b[0m\n\u001b[34m| epoch   1 |  2200/ 2983 batches | lr 20.00 | ms/batch 93.13 | loss  5.91 | ppl   370.32\u001b[0m\n\u001b[34m| epoch   1 |  2400/ 2983 batches | lr 20.00 | ms/batch 92.94 | loss  5.95 | ppl   385.61\u001b[0m\n\u001b[34m| epoch   1 |  2600/ 2983 batches | lr 20.00 | ms/batch 92.87 | loss  5.94 | ppl   379.00\u001b[0m\n\u001b[34m| epoch   1 |  2800/ 2983 batches | lr 20.00 | ms/batch 92.93 | loss  5.83 | ppl   339.61\u001b[0m\n\u001b[34m-----------------------------------------------------------------------------------------\u001b[0m\n\u001b[34m| end of epoch   1 | time: 286.72s | valid loss  6.04 | valid ppl   421.32\u001b[0m\n\u001b[34m-----------------------------------------------------------------------------------------\u001b[0m\n\u001b[34mSaving the best model: {'epoch': 1, 'lr': 20, 'val_loss': 6.043403888927446, 'val_ppl': 421.32473943810686}\u001b[0m\n\u001b[34m=========================================================================================\u001b[0m\n\u001b[34m| End of training | test loss  6.03 | test ppl   417.12\u001b[0m\n\u001b[34m=========================================================================================\u001b[0m\n\u001b[34m[2020-06-14 08:06:45.551 algo-1:49 INFO utils.py:25] The end of training job file will not be written for jobs running under SageMaker.\u001b[0m\n\u001b[34m2020-06-14 08:06:46,099 sagemaker-containers INFO     Reporting training SUCCESS\u001b[0m\n\n2020-06-14 08:07:13 Uploading - Uploading generated training model\n2020-06-14 08:07:13 Completed - Training job completed\nTraining seconds: 528\nBillable seconds: 528\n"
    }
   ],
   "source": [
    "estimator.fit({'training': inputs})"
   ]
  },
  {
   "cell_type": "code",
   "execution_count": 45,
   "metadata": {},
   "outputs": [
    {
     "output_type": "stream",
     "name": "stdout",
     "text": "s3://sagemaker-us-west-2-294038372338/sagemaker/hunkim-kogpt2/tensorboard/data/emission/pytorch-training-2020-06-14-07-56-02-352/tensorboard-output\nThe tensorboard extension is already loaded. To reload it, use:\n  %reload_ext tensorboard\n"
    },
    {
     "output_type": "display_data",
     "data": {
      "text/plain": "Launching TensorBoard..."
     },
     "metadata": {}
    },
    {
     "output_type": "display_data",
     "data": {
      "text/plain": "<IPython.core.display.HTML object>",
      "text/html": "\n      <iframe id=\"tensorboard-frame-7279f0f8721be8af\" width=\"100%\" height=\"800\" frameborder=\"0\">\n      </iframe>\n      <script>\n        (function() {\n          const frame = document.getElementById(\"tensorboard-frame-7279f0f8721be8af\");\n          const url = new URL(\"/\", window.location);\n          url.port = 6007;\n          frame.src = url;\n        })();\n      </script>\n  "
     },
     "metadata": {}
    },
    {
     "output_type": "stream",
     "name": "stdout",
     "text": "Known TensorBoard instances:\n  - port 6007: logdir s3://sagemaker-us-west-2-294038372338/sagemaker/hunkim-kogpt2/tensorboard/data/emission (started 0:11:25 ago; pid 3777)\n  - port 6009: logdir tensorboard-output (started 0:08:11 ago; pid 3897)\n  - port 6006: logdir s3://sagemaker-us-west-2-294038372338/sagemaker/hunkim-kogpt2/tensorboard/data/emission/pytorch-training-2020-06-14-07-56-02-352/tensorboard-output (started 2:58:37 ago; pid 89975)\n  - port 6010: logdir ./tensorboard-output (started 0:07:40 ago; pid 3954)\n  - port 6008: logdir tensorboard-output (started 0:08:36 ago; pid 3888)\n"
    }
   ],
   "source": [
    "tensorboard_s3_output_path = estimator.latest_job_tensorboard_artifacts_path()\n",
    "print(tensorboard_s3_output_path)\n",
    "%tensorboard --logdir {tensorboard_output}\n",
    "\n",
    "from tensorboard import notebook\n",
    "notebook.list()"
   ]
  },
  {
   "cell_type": "code",
   "execution_count": 10,
   "metadata": {},
   "outputs": [],
   "source": [
    "from sagemaker.predictor import RealTimePredictor, json_serializer, json_deserializer\n",
    "\n",
    "class JSONPredictor(RealTimePredictor):\n",
    "    def __init__(self, endpoint_name, sagemaker_session):\n",
    "        super(JSONPredictor, self).__init__(endpoint_name, sagemaker_session, json_serializer, json_deserializer)"
   ]
  },
  {
   "cell_type": "code",
   "execution_count": 11,
   "metadata": {},
   "outputs": [
    {
     "output_type": "error",
     "ename": "AttributeError",
     "evalue": "'NoneType' object has no attribute 'name'",
     "traceback": [
      "\u001b[0;31m---------------------------------------------------------------------------\u001b[0m",
      "\u001b[0;31mAttributeError\u001b[0m                            Traceback (most recent call last)",
      "\u001b[0;32m<ipython-input-11-a74f646704a1>\u001b[0m in \u001b[0;36m<module>\u001b[0;34m\u001b[0m\n\u001b[1;32m      1\u001b[0m \u001b[0;32mfrom\u001b[0m \u001b[0msagemaker\u001b[0m\u001b[0;34m.\u001b[0m\u001b[0mpytorch\u001b[0m \u001b[0;32mimport\u001b[0m \u001b[0mPyTorchModel\u001b[0m\u001b[0;34m\u001b[0m\u001b[0;34m\u001b[0m\u001b[0m\n\u001b[1;32m      2\u001b[0m \u001b[0;34m\u001b[0m\u001b[0m\n\u001b[0;32m----> 3\u001b[0;31m \u001b[0mtraining_job_name\u001b[0m \u001b[0;34m=\u001b[0m \u001b[0mestimator\u001b[0m\u001b[0;34m.\u001b[0m\u001b[0mlatest_training_job\u001b[0m\u001b[0;34m.\u001b[0m\u001b[0mname\u001b[0m\u001b[0;34m\u001b[0m\u001b[0;34m\u001b[0m\u001b[0m\n\u001b[0m\u001b[1;32m      4\u001b[0m \u001b[0mdesc\u001b[0m \u001b[0;34m=\u001b[0m \u001b[0msagemaker_session\u001b[0m\u001b[0;34m.\u001b[0m\u001b[0msagemaker_client\u001b[0m\u001b[0;34m.\u001b[0m\u001b[0mdescribe_training_job\u001b[0m\u001b[0;34m(\u001b[0m\u001b[0mTrainingJobName\u001b[0m\u001b[0;34m=\u001b[0m\u001b[0mtraining_job_name\u001b[0m\u001b[0;34m)\u001b[0m\u001b[0;34m\u001b[0m\u001b[0;34m\u001b[0m\u001b[0m\n\u001b[1;32m      5\u001b[0m \u001b[0mtrained_model_location\u001b[0m \u001b[0;34m=\u001b[0m \u001b[0mdesc\u001b[0m\u001b[0;34m[\u001b[0m\u001b[0;34m'ModelArtifacts'\u001b[0m\u001b[0;34m]\u001b[0m\u001b[0;34m[\u001b[0m\u001b[0;34m'S3ModelArtifacts'\u001b[0m\u001b[0;34m]\u001b[0m\u001b[0;34m\u001b[0m\u001b[0;34m\u001b[0m\u001b[0m\n",
      "\u001b[0;31mAttributeError\u001b[0m: 'NoneType' object has no attribute 'name'"
     ]
    }
   ],
   "source": [
    "from sagemaker.pytorch import PyTorchModel\n",
    "\n",
    "training_job_name = estimator.latest_training_job.name\n",
    "desc = sagemaker_session.sagemaker_client.describe_training_job(TrainingJobName=training_job_name)\n",
    "trained_model_location = desc['ModelArtifacts']['S3ModelArtifacts']\n",
    "print(trained_model_location)\n",
    "model = PyTorchModel(model_data=trained_model_location,\n",
    "                     role=role,\n",
    "                     framework_version='1.5.0',\n",
    "                     entry_point='generate.py',\n",
    "                     source_dir='code',\n",
    "                     predictor_cls=JSONPredictor)"
   ]
  },
  {
   "cell_type": "code",
   "execution_count": 12,
   "metadata": {},
   "outputs": [
    {
     "output_type": "error",
     "ename": "NameError",
     "evalue": "name 'model' is not defined",
     "traceback": [
      "\u001b[0;31m---------------------------------------------------------------------------\u001b[0m",
      "\u001b[0;31mNameError\u001b[0m                                 Traceback (most recent call last)",
      "\u001b[0;32m<ipython-input-12-3d939d8a0ee3>\u001b[0m in \u001b[0;36m<module>\u001b[0;34m\u001b[0m\n\u001b[0;32m----> 1\u001b[0;31m \u001b[0mpredictor\u001b[0m \u001b[0;34m=\u001b[0m \u001b[0mmodel\u001b[0m\u001b[0;34m.\u001b[0m\u001b[0mdeploy\u001b[0m\u001b[0;34m(\u001b[0m\u001b[0minitial_instance_count\u001b[0m\u001b[0;34m=\u001b[0m\u001b[0;36m1\u001b[0m\u001b[0;34m,\u001b[0m \u001b[0minstance_type\u001b[0m\u001b[0;34m=\u001b[0m\u001b[0;34m'ml.m4.xlarge'\u001b[0m\u001b[0;34m)\u001b[0m\u001b[0;34m\u001b[0m\u001b[0;34m\u001b[0m\u001b[0m\n\u001b[0m\u001b[1;32m      2\u001b[0m \u001b[0;34m\u001b[0m\u001b[0m\n\u001b[1;32m      3\u001b[0m \u001b[0;31m# Get the end point\u001b[0m\u001b[0;34m\u001b[0m\u001b[0;34m\u001b[0m\u001b[0;34m\u001b[0m\u001b[0m\n\u001b[1;32m      4\u001b[0m \u001b[0mendpoint\u001b[0m \u001b[0;34m=\u001b[0m \u001b[0mpredictor\u001b[0m\u001b[0;34m.\u001b[0m\u001b[0mendpoint\u001b[0m\u001b[0;34m\u001b[0m\u001b[0;34m\u001b[0m\u001b[0m\n\u001b[1;32m      5\u001b[0m \u001b[0mprint\u001b[0m\u001b[0;34m(\u001b[0m\u001b[0mendpoint\u001b[0m\u001b[0;34m)\u001b[0m\u001b[0;34m\u001b[0m\u001b[0;34m\u001b[0m\u001b[0m\n",
      "\u001b[0;31mNameError\u001b[0m: name 'model' is not defined"
     ]
    }
   ],
   "source": [
    "predictor = model.deploy(initial_instance_count=1, instance_type='ml.m4.xlarge')\n",
    "\n",
    "# Get the end point\n",
    "endpoint = predictor.endpoint\n",
    "print(endpoint)"
   ]
  },
  {
   "cell_type": "code",
   "execution_count": 13,
   "metadata": {},
   "outputs": [
    {
     "output_type": "error",
     "ename": "NameError",
     "evalue": "name 'predictor' is not defined",
     "traceback": [
      "\u001b[0;31m---------------------------------------------------------------------------\u001b[0m",
      "\u001b[0;31mNameError\u001b[0m                                 Traceback (most recent call last)",
      "\u001b[0;32m<ipython-input-13-f6154788588e>\u001b[0m in \u001b[0;36m<module>\u001b[0;34m\u001b[0m\n\u001b[1;32m      5\u001b[0m     \u001b[0;34m'words'\u001b[0m\u001b[0;34m:\u001b[0m \u001b[0;36m100\u001b[0m\u001b[0;34m\u001b[0m\u001b[0;34m\u001b[0m\u001b[0m\n\u001b[1;32m      6\u001b[0m }\n\u001b[0;32m----> 7\u001b[0;31m \u001b[0mresponse\u001b[0m \u001b[0;34m=\u001b[0m \u001b[0mpredictor\u001b[0m\u001b[0;34m.\u001b[0m\u001b[0mpredict\u001b[0m\u001b[0;34m(\u001b[0m\u001b[0minput\u001b[0m\u001b[0;34m)\u001b[0m\u001b[0;34m\u001b[0m\u001b[0;34m\u001b[0m\u001b[0m\n\u001b[0m\u001b[1;32m      8\u001b[0m \u001b[0mprint\u001b[0m\u001b[0;34m(\u001b[0m\u001b[0mresponse\u001b[0m\u001b[0;34m)\u001b[0m\u001b[0;34m\u001b[0m\u001b[0;34m\u001b[0m\u001b[0m\n",
      "\u001b[0;31mNameError\u001b[0m: name 'predictor' is not defined"
     ]
    }
   ],
   "source": [
    "#FIXME: This works, but the predictor using endpoint does not work\n",
    "input = {\n",
    "    'seed': 111,\n",
    "    'temperature': 2.0,\n",
    "    'words': 100\n",
    "}\n",
    "response = predictor.predict(input)\n",
    "print(response)"
   ]
  },
  {
   "cell_type": "code",
   "execution_count": 14,
   "metadata": {},
   "outputs": [
    {
     "output_type": "error",
     "ename": "NameError",
     "evalue": "name 'predictor' is not defined",
     "traceback": [
      "\u001b[0;31m---------------------------------------------------------------------------\u001b[0m",
      "\u001b[0;31mNameError\u001b[0m                                 Traceback (most recent call last)",
      "\u001b[0;32m<ipython-input-14-e1cae36713f0>\u001b[0m in \u001b[0;36m<module>\u001b[0;34m\u001b[0m\n\u001b[0;32m----> 1\u001b[0;31m \u001b[0msagemaker_session\u001b[0m\u001b[0;34m.\u001b[0m\u001b[0mdelete_endpoint\u001b[0m\u001b[0;34m(\u001b[0m\u001b[0mpredictor\u001b[0m\u001b[0;34m.\u001b[0m\u001b[0mendpoint\u001b[0m\u001b[0;34m)\u001b[0m\u001b[0;34m\u001b[0m\u001b[0;34m\u001b[0m\u001b[0m\n\u001b[0m",
      "\u001b[0;31mNameError\u001b[0m: name 'predictor' is not defined"
     ]
    }
   ],
   "source": [
    "sagemaker_session.delete_endpoint(predictor.endpoint)"
   ]
  },
  {
   "cell_type": "code",
   "execution_count": null,
   "metadata": {},
   "outputs": [],
   "source": []
  }
 ],
 "metadata": {
  "language_info": {
   "codemirror_mode": {
    "name": "ipython",
    "version": 3
   },
   "file_extension": ".py",
   "mimetype": "text/x-python",
   "name": "python",
   "nbconvert_exporter": "python",
   "pygments_lexer": "ipython3",
   "version": "3.7.3-final"
  },
  "orig_nbformat": 2,
  "kernelspec": {
   "name": "python37364bitvenvvenvc7132e3a9c994909914bfa614ecc974e",
   "display_name": "Python 3.7.3 64-bit ('.venv': venv)"
  }
 },
 "nbformat": 4,
 "nbformat_minor": 2
}
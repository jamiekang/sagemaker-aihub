{
 "cells": [
  {
   "cell_type": "markdown",
   "metadata": {},
   "source": [
    "# KorGPT2 Lyric Fine-Tuning With Sagemaker\n",
    "Author: https://github.com/MrBananaHuman/KorGPT2Tutorial"
   ]
  },
  {
   "cell_type": "code",
   "execution_count": 4,
   "metadata": {},
   "outputs": [
    {
     "output_type": "stream",
     "name": "stdout",
     "text": "\u001b[33mYou are using pip version 19.0.3, however version 20.2b1 is available.\nYou should consider upgrading via the 'pip install --upgrade pip' command.\u001b[0m\n\u001b[33mYou are using pip version 19.0.3, however version 20.2b1 is available.\nYou should consider upgrading via the 'pip install --upgrade pip' command.\u001b[0m\n"
    }
   ],
   "source": [
    "!pip -q install sagemaker sagemaker[local]\n",
    "!pip -q install gdown"
   ]
  },
  {
   "cell_type": "code",
   "execution_count": 5,
   "metadata": {},
   "outputs": [
    {
     "output_type": "stream",
     "name": "stderr",
     "text": "WARNING:root:pandas failed to import. Analytics features will be impaired or broken.\n"
    }
   ],
   "source": [
    "import sagemaker\n",
    "import boto3\n",
    "\n",
    "sagemaker_session = sagemaker.Session()\n",
    "\n",
    "bucket = sagemaker_session.default_bucket()\n",
    "prefix = 'sagemaker/hunkim-kogpg2-data'\n",
    "role = 'arn:aws:iam::294038372338:role/hunkimSagemaker'"
   ]
  },
  {
   "cell_type": "code",
   "execution_count": 6,
   "metadata": {},
   "outputs": [
    {
     "output_type": "stream",
     "name": "stdout",
     "text": "Downloading...\nFrom: https://drive.google.com/uc?id=1kX_dB05dkLRgxJkqoHidrT2OFYHGYWPF\nTo: /Users/hunkim/work/sagemaker-aihub/kogpt2/local_data/KorGPT-2SampleModel/pytorch_model.bin\n516MB [00:18, 28.5MB/s]\n"
    }
   ],
   "source": [
    "!mkdir -p local_data/KorGPT-2SampleModel\n",
    "!gdown -O ./local_data/KorGPT-2SampleModel/pytorch_model.bin --id 1kX_dB05dkLRgxJkqoHidrT2OFYHGYWPF"
   ]
  },
  {
   "cell_type": "code",
   "execution_count": 7,
   "metadata": {},
   "outputs": [
    {
     "output_type": "stream",
     "name": "stderr",
     "text": "WARNING:sagemaker:'upload_data' method will be deprecated in favor of 'S3Uploader' class (https://sagemaker.readthedocs.io/en/stable/s3.html#sagemaker.s3.S3Uploader) in SageMaker Python SDK v2.\ninput spec (in this case, just an S3 path): s3://sagemaker-us-west-2-294038372338/sagemaker/hunkim-kogpg2-data\n"
    }
   ],
   "source": [
    "inputs = sagemaker_session.upload_data(path='local_data', bucket=bucket, key_prefix=prefix)\n",
    "print('input spec (in this case, just an S3 path): {}'.format(inputs))"
   ]
  },
  {
   "cell_type": "code",
   "execution_count": 29,
   "metadata": {},
   "outputs": [],
   "source": [
    "from sagemaker.pytorch import PyTorch\n",
    "\n",
    "estimator = PyTorch(entry_point='lyric_train.py',\n",
    "                    source_dir='code',\n",
    "                    role=role,\n",
    "                    framework_version='1.5.0',\n",
    "                    train_instance_count=1,\n",
    "                    train_instance_type='ml.g4dn.xlarge',\n",
    "                    hyperparameters={\n",
    "                        'epochs': 5,\n",
    "                        'batch-size': 4\n",
    "                      })"
   ]
  },
  {
   "cell_type": "code",
   "execution_count": 32,
   "metadata": {},
   "outputs": [
    {
     "output_type": "stream",
     "name": "stderr",
     "text": "WARNING:sagemaker:'create_image_uri' will be deprecated in favor of 'ImageURIProvider' class in SageMaker Python SDK v2.\nWARNING:sagemaker:'s3_input' class will be renamed to 'TrainingInput' in SageMaker Python SDK v2.\nWARNING:sagemaker:'create_image_uri' will be deprecated in favor of 'ImageURIProvider' class in SageMaker Python SDK v2.\n2020-06-15 00:00:35 Starting - Starting the training job...\n2020-06-15 00:00:37 Starting - Launching requested ML instances............\n2020-06-15 00:02:46 Starting - Preparing the instances for training...\n2020-06-15 00:03:42 Downloading - Downloading input data\n2020-06-15 00:03:42 Training - Downloading the training image........\u001b[34mbash: cannot set terminal process group (-1): Inappropriate ioctl for device\u001b[0m\n\u001b[34mbash: no job control in this shell\u001b[0m\n\u001b[34m2020-06-15 00:05:05,529 sagemaker-containers INFO     Imported framework sagemaker_pytorch_container.training\u001b[0m\n\u001b[34m2020-06-15 00:05:05,551 sagemaker_pytorch_container.training INFO     Block until all host DNS lookups succeed.\u001b[0m\n\u001b[34m2020-06-15 00:05:05,555 sagemaker_pytorch_container.training INFO     Invoking user training script.\u001b[0m\n\u001b[34m2020-06-15 00:05:05,822 sagemaker-containers INFO     Module default_user_module_name does not provide a setup.py. \u001b[0m\n\u001b[34mGenerating setup.py\u001b[0m\n\u001b[34m2020-06-15 00:05:05,823 sagemaker-containers INFO     Generating setup.cfg\u001b[0m\n\u001b[34m2020-06-15 00:05:05,823 sagemaker-containers INFO     Generating MANIFEST.in\u001b[0m\n\u001b[34m2020-06-15 00:05:05,823 sagemaker-containers INFO     Installing module with the following command:\u001b[0m\n\u001b[34m/opt/conda/bin/python -m pip install . -r requirements.txt\u001b[0m\n\u001b[34mProcessing /tmp/tmp6g33gs58/module_dir\u001b[0m\n\u001b[34mCollecting tqdm==4.46.0\n  Downloading tqdm-4.46.0-py2.py3-none-any.whl (63 kB)\u001b[0m\n\u001b[34mCollecting numpy==1.18.5\n  Downloading numpy-1.18.5-cp36-cp36m-manylinux1_x86_64.whl (20.1 MB)\u001b[0m\n\u001b[34mCollecting ptvsd==4.3.2\n  Downloading ptvsd-4.3.2-cp36-cp36m-manylinux1_x86_64.whl (5.9 MB)\u001b[0m\n\u001b[34mCollecting tensorboardX==2.0\n  Downloading tensorboardX-2.0-py2.py3-none-any.whl (195 kB)\u001b[0m\n\u001b[34mCollecting tokenizers==0.7.0\n  Downloading tokenizers-0.7.0-cp36-cp36m-manylinux1_x86_64.whl (3.8 MB)\u001b[0m\n\u001b[34mRequirement already satisfied: torch==1.5.0 in /opt/conda/lib/python3.6/site-packages (from -r requirements.txt (line 6)) (1.5.0)\u001b[0m\n\u001b[34mCollecting transformers==2.11.0\n  Downloading transformers-2.11.0-py3-none-any.whl (674 kB)\u001b[0m\n\u001b[34mRequirement already satisfied: six in /opt/conda/lib/python3.6/site-packages (from tensorboardX==2.0->-r requirements.txt (line 4)) (1.14.0)\u001b[0m\n\u001b[34mRequirement already satisfied: protobuf>=3.8.0 in /opt/conda/lib/python3.6/site-packages (from tensorboardX==2.0->-r requirements.txt (line 4)) (3.11.3)\u001b[0m\n\u001b[34mRequirement already satisfied: future in /opt/conda/lib/python3.6/site-packages (from torch==1.5.0->-r requirements.txt (line 6)) (0.17.1)\u001b[0m\n\u001b[34mCollecting sacremoses\n  Downloading sacremoses-0.0.43.tar.gz (883 kB)\u001b[0m\n\u001b[34mCollecting filelock\n  Downloading filelock-3.0.12-py3-none-any.whl (7.6 kB)\u001b[0m\n\u001b[34mCollecting sentencepiece\n  Downloading sentencepiece-0.1.91-cp36-cp36m-manylinux1_x86_64.whl (1.1 MB)\u001b[0m\n\u001b[34mRequirement already satisfied: packaging in /opt/conda/lib/python3.6/site-packages (from transformers==2.11.0->-r requirements.txt (line 7)) (20.3)\u001b[0m\n\u001b[34mCollecting regex!=2019.12.17\n  Downloading regex-2020.6.8-cp36-cp36m-manylinux2010_x86_64.whl (660 kB)\u001b[0m\n\u001b[34mRequirement already satisfied: requests in /opt/conda/lib/python3.6/site-packages (from transformers==2.11.0->-r requirements.txt (line 7)) (2.22.0)\u001b[0m\n\u001b[34mRequirement already satisfied: dataclasses; python_version < \"3.7\" in /opt/conda/lib/python3.6/site-packages (from transformers==2.11.0->-r requirements.txt (line 7)) (0.7)\u001b[0m\n\u001b[34mRequirement already satisfied: setuptools in /opt/conda/lib/python3.6/site-packages (from protobuf>=3.8.0->tensorboardX==2.0->-r requirements.txt (line 4)) (46.1.3.post20200330)\u001b[0m\n\u001b[34mRequirement already satisfied: click in /opt/conda/lib/python3.6/site-packages (from sacremoses->transformers==2.11.0->-r requirements.txt (line 7)) (7.1.2)\u001b[0m\n\u001b[34mRequirement already satisfied: joblib in /opt/conda/lib/python3.6/site-packages (from sacremoses->transformers==2.11.0->-r requirements.txt (line 7)) (0.14.1)\u001b[0m\n\u001b[34mRequirement already satisfied: pyparsing>=2.0.2 in /opt/conda/lib/python3.6/site-packages (from packaging->transformers==2.11.0->-r requirements.txt (line 7)) (2.4.7)\u001b[0m\n\u001b[34mRequirement already satisfied: urllib3!=1.25.0,!=1.25.1,<1.26,>=1.21.1 in /opt/conda/lib/python3.6/site-packages (from requests->transformers==2.11.0->-r requirements.txt (line 7)) (1.25.8)\u001b[0m\n\u001b[34mRequirement already satisfied: certifi>=2017.4.17 in /opt/conda/lib/python3.6/site-packages (from requests->transformers==2.11.0->-r requirements.txt (line 7)) (2020.4.5.1)\u001b[0m\n\u001b[34mRequirement already satisfied: idna<2.9,>=2.5 in /opt/conda/lib/python3.6/site-packages (from requests->transformers==2.11.0->-r requirements.txt (line 7)) (2.8)\u001b[0m\n\u001b[34mRequirement already satisfied: chardet<3.1.0,>=3.0.2 in /opt/conda/lib/python3.6/site-packages (from requests->transformers==2.11.0->-r requirements.txt (line 7)) (3.0.4)\u001b[0m\n\u001b[34mBuilding wheels for collected packages: default-user-module-name, sacremoses\n  Building wheel for default-user-module-name (setup.py): started\u001b[0m\n\u001b[34m  Building wheel for default-user-module-name (setup.py): finished with status 'done'\n  Created wheel for default-user-module-name: filename=default_user_module_name-1.0.0-py2.py3-none-any.whl size=14015 sha256=a3744d4c5714d437e42498c8042021935b83102d8cbe05efc08727e1b38af7c2\n  Stored in directory: /tmp/pip-ephem-wheel-cache-5ywyleq2/wheels/ef/1e/51/5549619f1066e0a881948263391d6d4ef26c6f7aa40671917f\n  Building wheel for sacremoses (setup.py): started\n  Building wheel for sacremoses (setup.py): finished with status 'done'\n  Created wheel for sacremoses: filename=sacremoses-0.0.43-py3-none-any.whl size=893259 sha256=c66a539604d49d770585c35cd7a57d2957c316d9c0cdff23e93b7844d4e62b94\n  Stored in directory: /root/.cache/pip/wheels/49/25/98/cdea9c79b2d9a22ccc59540b1784b67f06b633378e97f58da2\u001b[0m\n\u001b[34mSuccessfully built default-user-module-name sacremoses\u001b[0m\n\u001b[34mInstalling collected packages: tqdm, numpy, ptvsd, tensorboardX, tokenizers, regex, sacremoses, filelock, sentencepiece, transformers, default-user-module-name\n  Attempting uninstall: tqdm\n    Found existing installation: tqdm 4.42.1\n    Uninstalling tqdm-4.42.1:\n      Successfully uninstalled tqdm-4.42.1\n  Attempting uninstall: numpy\n    Found existing installation: numpy 1.16.4\n    Uninstalling numpy-1.16.4:\n      Successfully uninstalled numpy-1.16.4\u001b[0m\n\n2020-06-15 00:05:04 Training - Training image download completed. Training in progress.\u001b[34mSuccessfully installed default-user-module-name-1.0.0 filelock-3.0.12 numpy-1.18.5 ptvsd-4.3.2 regex-2020.6.8 sacremoses-0.0.43 sentencepiece-0.1.91 tensorboardX-2.0 tokenizers-0.7.0 tqdm-4.46.0 transformers-2.11.0\u001b[0m\n\u001b[34mWARNING: You are using pip version 20.1; however, version 20.1.1 is available.\u001b[0m\n\u001b[34mYou should consider upgrading via the '/opt/conda/bin/python -m pip install --upgrade pip' command.\u001b[0m\n\u001b[34m2020-06-15 00:05:15,316 sagemaker-containers INFO     Invoking user script\n\u001b[0m\n\u001b[34mTraining Env:\n\u001b[0m\n\u001b[34m{\n    \"additional_framework_parameters\": {},\n    \"channel_input_dirs\": {\n        \"training\": \"/opt/ml/input/data/training\"\n    },\n    \"current_host\": \"algo-1\",\n    \"framework_module\": \"sagemaker_pytorch_container.training:main\",\n    \"hosts\": [\n        \"algo-1\"\n    ],\n    \"hyperparameters\": {\n        \"epochs\": 5\n    },\n    \"input_config_dir\": \"/opt/ml/input/config\",\n    \"input_data_config\": {\n        \"training\": {\n            \"TrainingInputMode\": \"File\",\n            \"S3DistributionType\": \"FullyReplicated\",\n            \"RecordWrapperType\": \"None\"\n        }\n    },\n    \"input_dir\": \"/opt/ml/input\",\n    \"is_master\": true,\n    \"job_name\": \"pytorch-training-2020-06-15-00-00-33-479\",\n    \"log_level\": 20,\n    \"master_hostname\": \"algo-1\",\n    \"model_dir\": \"/opt/ml/model\",\n    \"module_dir\": \"s3://sagemaker-us-west-2-294038372338/pytorch-training-2020-06-15-00-00-33-479/source/sourcedir.tar.gz\",\n    \"module_name\": \"lyric_train\",\n    \"network_interface_name\": \"eth0\",\n    \"num_cpus\": 4,\n    \"num_gpus\": 1,\n    \"output_data_dir\": \"/opt/ml/output/data\",\n    \"output_dir\": \"/opt/ml/output\",\n    \"output_intermediate_dir\": \"/opt/ml/output/intermediate\",\n    \"resource_config\": {\n        \"current_host\": \"algo-1\",\n        \"hosts\": [\n            \"algo-1\"\n        ],\n        \"network_interface_name\": \"eth0\"\n    },\n    \"user_entry_point\": \"lyric_train.py\"\u001b[0m\n\u001b[34m}\n\u001b[0m\n\u001b[34mEnvironment variables:\n\u001b[0m\n\u001b[34mSM_HOSTS=[\"algo-1\"]\u001b[0m\n\u001b[34mSM_NETWORK_INTERFACE_NAME=eth0\u001b[0m\n\u001b[34mSM_HPS={\"epochs\":5}\u001b[0m\n\u001b[34mSM_USER_ENTRY_POINT=lyric_train.py\u001b[0m\n\u001b[34mSM_FRAMEWORK_PARAMS={}\u001b[0m\n\u001b[34mSM_RESOURCE_CONFIG={\"current_host\":\"algo-1\",\"hosts\":[\"algo-1\"],\"network_interface_name\":\"eth0\"}\u001b[0m\n\u001b[34mSM_INPUT_DATA_CONFIG={\"training\":{\"RecordWrapperType\":\"None\",\"S3DistributionType\":\"FullyReplicated\",\"TrainingInputMode\":\"File\"}}\u001b[0m\n\u001b[34mSM_OUTPUT_DATA_DIR=/opt/ml/output/data\u001b[0m\n\u001b[34mSM_CHANNELS=[\"training\"]\u001b[0m\n\u001b[34mSM_CURRENT_HOST=algo-1\u001b[0m\n\u001b[34mSM_MODULE_NAME=lyric_train\u001b[0m\n\u001b[34mSM_LOG_LEVEL=20\u001b[0m\n\u001b[34mSM_FRAMEWORK_MODULE=sagemaker_pytorch_container.training:main\u001b[0m\n\u001b[34mSM_INPUT_DIR=/opt/ml/input\u001b[0m\n\u001b[34mSM_INPUT_CONFIG_DIR=/opt/ml/input/config\u001b[0m\n\u001b[34mSM_OUTPUT_DIR=/opt/ml/output\u001b[0m\n\u001b[34mSM_NUM_CPUS=4\u001b[0m\n\u001b[34mSM_NUM_GPUS=1\u001b[0m\n\u001b[34mSM_MODEL_DIR=/opt/ml/model\u001b[0m\n\u001b[34mSM_MODULE_DIR=s3://sagemaker-us-west-2-294038372338/pytorch-training-2020-06-15-00-00-33-479/source/sourcedir.tar.gz\u001b[0m\n\u001b[34mSM_TRAINING_ENV={\"additional_framework_parameters\":{},\"channel_input_dirs\":{\"training\":\"/opt/ml/input/data/training\"},\"current_host\":\"algo-1\",\"framework_module\":\"sagemaker_pytorch_container.training:main\",\"hosts\":[\"algo-1\"],\"hyperparameters\":{\"epochs\":5},\"input_config_dir\":\"/opt/ml/input/config\",\"input_data_config\":{\"training\":{\"RecordWrapperType\":\"None\",\"S3DistributionType\":\"FullyReplicated\",\"TrainingInputMode\":\"File\"}},\"input_dir\":\"/opt/ml/input\",\"is_master\":true,\"job_name\":\"pytorch-training-2020-06-15-00-00-33-479\",\"log_level\":20,\"master_hostname\":\"algo-1\",\"model_dir\":\"/opt/ml/model\",\"module_dir\":\"s3://sagemaker-us-west-2-294038372338/pytorch-training-2020-06-15-00-00-33-479/source/sourcedir.tar.gz\",\"module_name\":\"lyric_train\",\"network_interface_name\":\"eth0\",\"num_cpus\":4,\"num_gpus\":1,\"output_data_dir\":\"/opt/ml/output/data\",\"output_dir\":\"/opt/ml/output\",\"output_intermediate_dir\":\"/opt/ml/output/intermediate\",\"resource_config\":{\"current_host\":\"algo-1\",\"hosts\":[\"algo-1\"],\"network_interface_name\":\"eth0\"},\"user_entry_point\":\"lyric_train.py\"}\u001b[0m\n\u001b[34mSM_USER_ARGS=[\"--epochs\",\"5\"]\u001b[0m\n\u001b[34mSM_OUTPUT_INTERMEDIATE_DIR=/opt/ml/output/intermediate\u001b[0m\n\u001b[34mSM_CHANNEL_TRAINING=/opt/ml/input/data/training\u001b[0m\n\u001b[34mSM_HP_EPOCHS=5\u001b[0m\n\u001b[34mPYTHONPATH=/opt/ml/code:/opt/conda/bin:/opt/conda/lib/python36.zip:/opt/conda/lib/python3.6:/opt/conda/lib/python3.6/lib-dynload:/opt/conda/lib/python3.6/site-packages\n\u001b[0m\n\u001b[34mInvoking script with the following command:\n\u001b[0m\n\u001b[34m/opt/conda/bin/python lyric_train.py --epochs 5\n\n\u001b[0m\n\u001b[34m[15098]\u001b[0m\n\u001b[34m[14161]\u001b[0m\n\u001b[34m[2020-06-15 00:05:26.071 algo-1:48 INFO json_config.py:90] Creating hook from json_config at /opt/ml/input/config/debughookconfig.json.\u001b[0m\n\u001b[34m[2020-06-15 00:05:26.072 algo-1:48 INFO hook.py:183] tensorboard_dir has not been set for the hook. SMDebug will not be exporting tensorboard summaries.\u001b[0m\n\u001b[34m[2020-06-15 00:05:26.072 algo-1:48 INFO hook.py:228] Saving to /opt/ml/output/tensors\u001b[0m\n\u001b[34m[2020-06-15 00:05:26.086 algo-1:48 INFO hook.py:364] Monitoring the collections: losses\u001b[0m\n\u001b[34m[2020-06-15 00:05:26.087 algo-1:48 INFO hook.py:422] Hook is writing from the hook with pid: 48\n\u001b[0m\n\u001b[34mepoch no.0 train no.1  loss = 7.06089 avg_loss = 7.06089\u001b[0m\n\u001b[34m[3855]\u001b[0m\n\u001b[34mepoch no.1 train no.2  loss = 4.59073 avg_loss = 5.81960\u001b[0m\n\u001b[34m[2023]\u001b[0m\n\u001b[34mepoch no.2 train no.3  loss = 1.98620 avg_loss = 4.52894\u001b[0m\n\u001b[34m[2023]\u001b[0m\n\u001b[34mepoch no.3 train no.4  loss = 1.82290 avg_loss = 3.84219\u001b[0m\n\u001b[34m[2023]\u001b[0m\n\u001b[34mepoch no.4 train no.5  loss = 1.74238 avg_loss = 3.41375\u001b[0m\n\u001b[34m[2023]\u001b[0m\n\u001b[34m['/opt/ml/model/lyric_model.bin', '/opt/ml/model/merges.txt', '/opt/ml/model/vocab.json']\u001b[0m\n\n2020-06-15 00:05:50 Uploading - Uploading generated training model\u001b[34m<song><s> 하늘을 날아오른 날개깃은 이하늘에 대한 자부심과 강한 의지를 갖고 있다.</s><s> 하늘은 이하늘에 대한 열망으로 가득 차 있다.</s><s> 또한 이 땅의 하늘은 이하늘의 아름다움을 상징한다.</s><s> 이하늘은 이하늘의 아름다움을 이하늘에 관한 위대한 증거물로 간주할 뿐만 아니라 이하늘의 향기롭고 감미로운 아름다움을 상징할 뿐 아니라, 그 아름다움에 비추어 본국의 세계관을 대변하는 상징적인 존재로 간주될 수 있다.</s><s> 이하늘은 이하늘에 대한 적인 상징과 함께 이하늘에 대한 적인 형상 및 인간의 본질과 조화를 통해 그의 삶의 새로운 의미를 창출한다.</s><s> 또한, 이하늘의 아름다움을 이하늘에 대한 그의 열정을 나타내기도 한다.</s><s> </s><s> 2017년 3월 27일  2017년 4월 27일 SK와의  원정 경기에서 프로 데드하였다.</s><s> 데드 트래핑을 바탕으로 한                 2016년 4월 27일 KIA와의 원정 경기에서 프로 데드의 첫 선발등판  6월 24일 NC와의  원정 경기에서 프로 데드 이후 첫 선발 등판  6월 29일 NC와의 원정경기에서 프로 데드의 첫 선발 등판에서 4이터로 무실점을 기록하면서 첫 등판이다.</s><s> 이 날 9:4의 승리 투수가 되었다.</s><s> 이날 투수로는 무려 62이상의 호투를 보이며 평균자책점을 기록 중.</s><s> 7월 26일 KIA와의 원정경기에서 프로 데드 이후 첫 등판에서 113이상의 호투를 보여주었다.</s><s> 6월 19일 수원 삼성과의 원정경기에서는 5이트 2피안타 2사사구 5탈삼진 3볼 2탈삼진 무실점 호투에 능하며 프로 데드의 첫 승리 투수가 되었다.</s><s> 이후 시애틀 매리너스의 1군 경기에서 프로 데드 후 첫 등판에서 149이상의 호투를 보여주었다.</s><s> 8월 21일 수원 삼성과의 원정경기에서 프로 데드 이후 첫 등판  6월 26일 수원 삼성과의 원정경기에서 프로 데드 이후 첫 선발 등판에서 137이상의 호투를 보여주었다.</s><s> 4월 21일 수원 삼성과의 원정경기에서 프로 데드가 2번째 선발 등판  4월 31일 수원 삼성과의 원정경기에서 프로 데드의 첫 선발 등판에서 5이터, 1이터, 2사 1, 2루에서 프로 데드의 첫 선발 등판에서 107이상의 호투를 보여주었다.</s><s> 10월 15일 수원 삼성과의 원정경기에서는 122이터의 호투를 보여주었다.</s><s> 4월 28일 수원 삼성과의 원정경기에서 프로 데드 첫 선발 등판에 1이터를 깔끔하게 막은 것이 96이터 87이 되도록 패전투수가 되었으며 데드 이후 첫 등판을 했다.</s><s> 5월 11일 수원 삼성과의 원정 경기에서 프로 데드로 첫 선발 등판을 했는데 9이터로 무실점을 기록했고, 특히 132이상의 호투를 보여주었다.</s><s> 9월 8일 수원 삼성과의 원정경기에서는 3회까지 무실점을 기록했지만 평균자책점을 기록하게 되었다.</s><s> 8월 20일 수원 삼성과의 원정경기에서는 4이터가 무실점 호투를 보여주었다.</s><s> 이후 첫 등판이던 9월 22일 수원 삼성과의 원정경기에서 프로 데드가 첫 선발등판  5월 31일 수원 삼성과의 원정경기에서 프로 데드를 첫 선발 등판  6월 26일 수원 삼성과의 원정경기에서 프로 데드 후 첫 선발 등판에서 149이터의 호투를 보여주었다.</s><s> 4월 7일 수원 삼성과의 원정경기에서 프로 데드에서 첫 선발 등판에서 163이터, 2이터로 무실점을 기록하며 선발 등판했다.</s><s> 7월 17일 수원 삼성과의 원정 경기에서 프로 데드의 첫 선발 등판  4월 28일까지 9이터 82이터를 무실점으로 막으며 시애틀 매리너스를 기록하였으며, 5월 27일 수원 삼성과의 원정경기에서 프로 데드로 첫 선발 등판에 7이터로 무실점으로 호투를 보여주었다.</s><s> 7월 14일 수원 삼성과의 원정경기에서 프로 데드의 첫 선발 등판에서 9이터가 무실점을 기록하면서 시애틀 매리너스의 1군 등판에서 6이터로 무실점을 기록하였다.</s><s> 9월 13일 수원 삼성과의 원정경기에서는 8이터에서 프로 데드 이후 첫 등판에 83이터의 호투를 보여주었다.</s><s> 6월 25일 수원 삼성과의 원정경기에서 프로 데드의 첫 선발등판  6월 23일 수원 삼성과의 원정경기에서 프로 데드의 첫 선발 등판  6월 28일 수원 삼성과의 원정경기에서는 83이터의 호투를 보여주었다.</s><s> 4월 28일 수원 삼성과의 원정경기에서 프로 데드의 첫 선발 등판  6월 24일 수원 삼성과의 원정경기에서 프로 데드의 첫 선발 등판에서 116이터의 호투를 보여주었다.</s><s> 4월 24일 수원 삼성과의 원정경기에서 프로 데드는 첫 선발등판  4월 28일 수원 삼성과의 원정경기에서 프로 데드라인을 기록하였다.</s><s> 4월 29일 수원 삼성과의 원정경기에서 프로 데드로 첫 선발 등판  4월 28일 수원 삼성과의 원정경기에서 프로 데드의 첫 선발\u001b[0m\n\u001b[34m[2020-06-15 00:05:49.285 algo-1:48 INFO utils.py:25] The end of training job file will not be written for jobs running under SageMaker.\u001b[0m\n\u001b[34m2020-06-15 00:05:49,791 sagemaker-containers INFO     Reporting training SUCCESS\u001b[0m\n\n2020-06-15 00:06:58 Completed - Training job completed\nTraining seconds: 217\nBillable seconds: 217\n"
    }
   ],
   "source": [
    "estimator.fit({'training': inputs})"
   ]
  },
  {
   "cell_type": "code",
   "execution_count": 33,
   "metadata": {},
   "outputs": [
    {
     "output_type": "stream",
     "name": "stdout",
     "text": "s3://sagemaker-us-west-2-294038372338/pytorch-training-2020-06-15-00-00-33-479/output/model.tar.gz\n"
    }
   ],
   "source": [
    "training_job_name = estimator.latest_training_job.name\n",
    "desc = sagemaker_session.sagemaker_client.describe_training_job(TrainingJobName=training_job_name)\n",
    "trained_model_location = desc['ModelArtifacts']['S3ModelArtifacts']\n",
    "print(trained_model_location)\n",
    "# s3://sagemaker-us-west-2-294038372338/pytorch-training-2020-06-15-00-00-33-479/output/model.tar.gz"
   ]
  },
  {
   "cell_type": "code",
   "execution_count": 54,
   "metadata": {},
   "outputs": [
    {
     "output_type": "stream",
     "name": "stderr",
     "text": "WARNING:sagemaker:Parameter image will be renamed to image_uri in SageMaker Python SDK v2.\ns3://sagemaker-us-west-2-294038372338/pytorch-training-2020-06-15-00-00-33-479/output/model.tar.gz\n"
    }
   ],
   "source": [
    "from sagemaker.pytorch import PyTorchModel\n",
    "\n",
    "training_job_name = estimator.latest_training_job.name\n",
    "desc = sagemaker_session.sagemaker_client.describe_training_job(TrainingJobName=training_job_name)\n",
    "trained_model_location = desc['ModelArtifacts']['S3ModelArtifacts']\n",
    "print(trained_model_location)\n",
    "model = PyTorchModel(model_data=trained_model_location,\n",
    "                     role=role,\n",
    "                     framework_version='1.5.0',\n",
    "                     entry_point='lyric_gen.py',\n",
    "                     source_dir='code')"
   ]
  },
  {
   "cell_type": "code",
   "execution_count": 60,
   "metadata": {},
   "outputs": [
    {
     "output_type": "stream",
     "name": "stderr",
     "text": "WARNING:sagemaker:'create_image_uri' will be deprecated in favor of 'ImageURIProvider' class in SageMaker Python SDK v2.\n----------------!CPU times: user 28.3 s, sys: 9.5 s, total: 37.8 s\nWall time: 9min 17s\n"
    }
   ],
   "source": [
    "%%time\n",
    "predictor = model.deploy(initial_instance_count=1, instance_type='ml.g4dn.xlarge')"
   ]
  },
  {
   "cell_type": "code",
   "execution_count": 61,
   "metadata": {},
   "outputs": [
    {
     "output_type": "stream",
     "name": "stdout",
     "text": "pytorch-inference-2020-06-15-01-47-54-313\nSee the logs at https://us-west-2.console.aws.amazon.com/cloudwatch/home?region=us-west-2#logEventViewer:group=/aws/sagemaker/Endpoints/pytorch-inference-2020-06-15-01-47-54-313\n"
    }
   ],
   "source": [
    "# Get the end point\n",
    "endpoint = predictor.endpoint\n",
    "print(endpoint)\n",
    "print(\"See the logs at\", \"https://us-west-2.console.aws.amazon.com/cloudwatch/home?region=us-west-2#logEventViewer:group=/aws/sagemaker/Endpoints/\"+ endpoint)"
   ]
  },
  {
   "cell_type": "code",
   "execution_count": 64,
   "metadata": {},
   "outputs": [
    {
     "output_type": "stream",
     "name": "stdout",
     "text": "b'\"<song><s> \\\\ud558\\\\ub298\\\\uc744 \\\\ub0a0\\\\uc790 \\\\uadf8 \\\\ub204\\\\uad6c\\\\ub3c4 \\\\uadf8 \\\\ub204\\\\uad6c\\\\ub3c4 \\\\uadf8 \\\\ub204\\\\uad6c\\\\ub3c4 \\\\uc774 \\\\uc138\\\\uc0c1\\\\uc758 \\\\ub204\\\\uad6c\\\\ub3c4 \\\\uc774 \\\\uc138\\\\uc0c1\\\\uc744 \\\\uc0ac\\\\ub791\\\\ud558\\\\uc9c0 \\\\uc54a\\\\uc744 \\\\uc218 \\\\uc5c6\\\\ub2e4.\"'\nCPU times: user 21.1 ms, sys: 3.2 ms, total: 24.3 ms\nWall time: 914 ms\n"
    }
   ],
   "source": [
    "%%time\n",
    "import boto3\n",
    "import json\n",
    "\n",
    "client = boto3.client('sagemaker-runtime')\n",
    "\n",
    "input = {\n",
    "    'text': \"하늘을 날자\"\n",
    "}\n",
    "payload = json.dumps(input)\n",
    "\n",
    "response = client.invoke_endpoint(\n",
    "    EndpointName=endpoint, \n",
    "    ContentType=\"application/json\",\n",
    "    Accept=\"application/json\" ,\n",
    "    Body=payload\n",
    ")\n",
    "\n",
    "print(response['Body'].read())  "
   ]
  },
  {
   "cell_type": "code",
   "execution_count": 65,
   "metadata": {},
   "outputs": [],
   "source": [
    "sagemaker_session.delete_endpoint(predictor.endpoint)"
   ]
  },
  {
   "cell_type": "code",
   "execution_count": null,
   "metadata": {},
   "outputs": [],
   "source": []
  }
 ],
 "metadata": {
  "language_info": {
   "codemirror_mode": {
    "name": "ipython",
    "version": 3
   },
   "file_extension": ".py",
   "mimetype": "text/x-python",
   "name": "python",
   "nbconvert_exporter": "python",
   "pygments_lexer": "ipython3",
   "version": "3.7.3-final"
  },
  "orig_nbformat": 2,
  "kernelspec": {
   "name": "python37364bitvenvvenvfbc6d215d2384daca7c44542d667cdba",
   "display_name": "Python 3.7.3 64-bit ('.venv': venv)"
  }
 },
 "nbformat": 4,
 "nbformat_minor": 2
}